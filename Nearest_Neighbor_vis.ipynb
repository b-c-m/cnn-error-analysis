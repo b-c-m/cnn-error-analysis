{
 "cells": [
  {
   "cell_type": "code",
   "execution_count": 2,
   "metadata": {},
   "outputs": [],
   "source": [
    "from cnn-error-analysis import cifar10\n",
    "from cnn-error-analysis import data_analysis as da\n",
    "from cnn-error-analysis import visualization as vis\n",
    "from cnn-error-analysis import evaluation as ev\n",
    "\n",
    "import pandas as pd\n",
    "import numpy as np\n",
    "import matplotlib.pyplot as plt\n"
   ]
  },
  {
   "cell_type": "code",
   "execution_count": 3,
   "metadata": {},
   "outputs": [],
   "source": [
    "# set paths to stored extracted features\n",
    "fv_test_url = \"D:/tmp/inceptionV1_finetuned_cifar10_version9/ckpt_204365_extracted/InceptionV1_CifarTest_fv.csv\"\n",
    "logits_test_url = \"D:/tmp/inceptionV1_finetuned_cifar10_version9/ckpt_204365_extracted/InceptionV1_CifarTest_logits.csv\"\n",
    "\n",
    "fv_train_url = \"D:/tmp/inceptionV1_finetuned_cifar10_version9/ckpt_204365_extracted/InceptionV1_CifarTrain_fv.csv\"\n",
    "logits_train_url = \"D:/tmp/inceptionV1_finetuned_cifar10_version9/ckpt_204365_extracted/InceptionV1_CifarTrain_logits.csv\""
   ]
  },
  {
   "cell_type": "code",
   "execution_count": 4,
   "metadata": {},
   "outputs": [],
   "source": [
    "current_analysis_folder = \"F:/diplomarbeit_bjoern_moeller/analysis/NearestNeighbor_all_errors\""
   ]
  },
  {
   "cell_type": "code",
   "execution_count": 5,
   "metadata": {},
   "outputs": [],
   "source": [
    "# load the data: Test Set\n",
    "cifar_test_fv_df = cifar10.load_csv_into_df(fv_test_url)\n",
    "cifar_test_logits_df = cifar10.load_csv_into_df(logits_test_url)\n",
    "#Train Set\n",
    "cifar_train_fv_df = cifar10.load_csv_into_df(fv_train_url)\n",
    "cifar_train_logits_df = cifar10.load_csv_into_df(logits_train_url)\n",
    "\n",
    "#concat\n",
    "fv_df = pd.concat([cifar_test_fv_df, cifar_train_fv_df])\n",
    "logits_df = pd.concat([cifar_test_logits_df, cifar_train_logits_df])\n",
    "# predict and label column in logits df\n",
    "logits_df = cifar10.add_predicted_classnr_column(logits_df)\n",
    "logits_df = cifar10.add_true_classnr_column(logits_df)\n",
    "logits_df.head(n=3)\n",
    "\n",
    "#reset index\n",
    "fv_df = fv_df.reset_index(drop=True)\n",
    "logits_df = logits_df.reset_index(drop=True)\n",
    "\n",
    "#slice\n",
    "#x_fv_df = cifar10.slice_df_by_classes(fv_df,[current_class])\n",
    "#x_logits_df = cifar10.slice_df_by_classes(logits_df,[current_class]) "
   ]
  },
  {
   "cell_type": "code",
   "execution_count": null,
   "metadata": {},
   "outputs": [],
   "source": []
  },
  {
   "cell_type": "code",
   "execution_count": 6,
   "metadata": {},
   "outputs": [
    {
     "name": "stdout",
     "output_type": "stream",
     "text": [
      "df shape (6000, 13)\n"
     ]
    }
   ],
   "source": [
    "false_negatives = vis.get_false_negatives_for_class(logits_df, \"truck\")"
   ]
  },
  {
   "cell_type": "code",
   "execution_count": 7,
   "metadata": {},
   "outputs": [],
   "source": [
    "#distances, indices =  nearest_neighbors(fv_df, neighbors=20)\n",
    "\n",
    "test = pd.read_csv(current_analysis_folder + \"nn_indices.csv\", sep=',', low_memory=False, error_bad_lines=False,header=None,skiprows=[0],index_col=0)"
   ]
  },
  {
   "cell_type": "code",
   "execution_count": 8,
   "metadata": {},
   "outputs": [
    {
     "data": {
      "text/plain": [
       "array([[    0, 17142, 24578, ..., 23443, 11892, 41383],\n",
       "       [    1, 47692,  6490, ..., 30936, 57655,  2692],\n",
       "       [    2, 26620,  9343, ..., 36306, 49035,   310],\n",
       "       ...,\n",
       "       [59997, 35338, 28792, ..., 56072,  6871,  1064],\n",
       "       [59998, 33923, 26211, ..., 47792, 44238, 15917],\n",
       "       [59999, 27255, 24204, ..., 53984, 29764,  7052]], dtype=int64)"
      ]
     },
     "execution_count": 8,
     "metadata": {},
     "output_type": "execute_result"
    }
   ],
   "source": [
    "indices = test.to_numpy()\n",
    "indices"
   ]
  },
  {
   "cell_type": "code",
   "execution_count": 9,
   "metadata": {},
   "outputs": [
    {
     "name": "stdout",
     "output_type": "stream",
     "text": [
      "D:/tmp/cifar10_pythonversion/cifar-10-batches-py/data_batch_1\n",
      "D:/tmp/cifar10_pythonversion/cifar-10-batches-py/data_batch_2\n",
      "D:/tmp/cifar10_pythonversion/cifar-10-batches-py/data_batch_3\n",
      "D:/tmp/cifar10_pythonversion/cifar-10-batches-py/data_batch_4\n",
      "D:/tmp/cifar10_pythonversion/cifar-10-batches-py/data_batch_5\n",
      "D:/tmp/cifar10_pythonversion/cifar-10-batches-py/test_batch\n"
     ]
    },
    {
     "data": {
      "text/plain": [
       "(60000, 32, 32, 3)"
      ]
     },
     "execution_count": 9,
     "metadata": {},
     "output_type": "execute_result"
    }
   ],
   "source": [
    "#Load Images\n",
    "cifarDataManager = cifar10.CifarDataManager()\n",
    "test_images = cifarDataManager.test.images\n",
    "#x_test_images = test_images[x_fv_df.index.tolist(),:,:,:]\n",
    "\n",
    "train_images = cifarDataManager.train.images\n",
    "#x_train_images = train_images[x_logits_df.index.tolist(),:,:,:]\n",
    "\n",
    "\n",
    "images = np.concatenate((test_images, train_images), axis=0)\n",
    "images.shape"
   ]
  },
  {
   "cell_type": "code",
   "execution_count": 10,
   "metadata": {},
   "outputs": [],
   "source": [
    "visualizer = vis.Visualizer(cifar10.class_names)"
   ]
  },
  {
   "cell_type": "code",
   "execution_count": 11,
   "metadata": {},
   "outputs": [],
   "source": [
    "##### print output for one class #####\n",
    "for i in [0,1,2,3,4,5,6,7,8]: #exclude class label for current class otherwise it will take some time (e.g. truck: exclude 9)\n",
    "    if false_negatives[i] != []:\n",
    "        img1 = vis.plot_nn_for_class(false_negatives[i],indices,logits_df, images, visualizer)\n",
    "        img1.save(current_analysis_folder + 'image_truck_'+ str(i) + '.png')"
   ]
  },
  {
   "cell_type": "code",
   "execution_count": null,
   "metadata": {},
   "outputs": [],
   "source": []
  }
 ],
 "metadata": {
  "kernelspec": {
   "display_name": "Python 3",
   "language": "python",
   "name": "python3"
  },
  "language_info": {
   "codemirror_mode": {
    "name": "ipython",
    "version": 3
   },
   "file_extension": ".py",
   "mimetype": "text/x-python",
   "name": "python",
   "nbconvert_exporter": "python",
   "pygments_lexer": "ipython3",
   "version": "3.6.8"
  }
 },
 "nbformat": 4,
 "nbformat_minor": 2
}
